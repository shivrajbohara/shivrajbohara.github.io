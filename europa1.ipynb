{
 "cells": [
  {
   "cell_type": "code",
   "execution_count": 1,
   "metadata": {},
   "outputs": [],
   "source": [
    "import os\n",
    "import datetime\n",
    "import json\n",
    "import rasterio"
   ]
  },
  {
   "cell_type": "code",
   "execution_count": 2,
   "metadata": {},
   "outputs": [],
   "source": [
    "from pathlib import Path"
   ]
  },
  {
   "cell_type": "code",
   "execution_count": 3,
   "metadata": {},
   "outputs": [],
   "source": [
    "files = Path('tif').stem"
   ]
  },
  {
   "cell_type": "code",
   "execution_count": 4,
   "metadata": {},
   "outputs": [],
   "source": [
    "list = os.listdir('tif')\n"
   ]
  },
  {
   "cell_type": "code",
   "execution_count": 5,
   "metadata": {},
   "outputs": [
    {
     "name": "stdout",
     "output_type": "stream",
     "text": [
      "['Forest', 'River', 'Highway', 'AnnualCrop', 'SeaLake', 'HerbaceousVegetation', 'Industrial', 'Residential', 'PermanentCrop', 'Pasture']\n"
     ]
    }
   ],
   "source": [
    "print(list)"
   ]
  },
  {
   "cell_type": "code",
   "execution_count": 6,
   "metadata": {},
   "outputs": [],
   "source": [
    "files = Path('tif ').stem"
   ]
  },
  {
   "cell_type": "code",
   "execution_count": 7,
   "metadata": {},
   "outputs": [],
   "source": [
    "date = datetime.datetime.now()"
   ]
  },
  {
   "cell_type": "code",
   "execution_count": 8,
   "metadata": {},
   "outputs": [
    {
     "name": "stdout",
     "output_type": "stream",
     "text": [
      "2022-05-09 22:25:26.371952\n"
     ]
    }
   ],
   "source": [
    "print(date)"
   ]
  },
  {
   "cell_type": "code",
   "execution_count": 9,
   "metadata": {},
   "outputs": [],
   "source": [
    "date_year = date.year"
   ]
  },
  {
   "cell_type": "code",
   "execution_count": 10,
   "metadata": {},
   "outputs": [
    {
     "name": "stdout",
     "output_type": "stream",
     "text": [
      "2022\n"
     ]
    }
   ],
   "source": [
    "print(date_year)"
   ]
  },
  {
   "cell_type": "code",
   "execution_count": 11,
   "metadata": {},
   "outputs": [],
   "source": [
    "AnnualCrop = rasterio.open('tif/Annualcrop/AnnualCrop_1.tif')\n",
    "forest = rasterio.open('tif/forest/forest_1.tif')\n",
    "HerbaceousVegetation = rasterio.open('tif/HerbaceousVegetation/HerbaceousVegetation_1.tif')\n",
    "highway = rasterio.open('tif/Highway/Highway_1.tif')\n",
    "sealake =  rasterio.open('tif/SeaLake/SeaLake_1.tif')\n",
    "Industrial =  rasterio.open('tif/Industrial/Industrial_1.tif')\n",
    "Residental =  rasterio.open('tif/Residential/Residential_1.tif')\n",
    "PermanentCrop =  rasterio.open('tif/PermanentCrop/PermanentCrop_1.tif')\n",
    "Pasture =  rasterio.open('tif/Pasture/Pasture_1.tif')\n",
    "River =  rasterio.open('tif/River/River_1.tif')\n"
   ]
  },
  {
   "cell_type": "code",
   "execution_count": 12,
   "metadata": {},
   "outputs": [],
   "source": [
    "annual_bound = AnnualCrop.bounds"
   ]
  },
  {
   "cell_type": "code",
   "execution_count": 13,
   "metadata": {},
   "outputs": [],
   "source": [
    "Forest_bound = forest.bounds"
   ]
  },
  {
   "cell_type": "code",
   "execution_count": 14,
   "metadata": {},
   "outputs": [],
   "source": [
    "Herbaceous_bound = HerbaceousVegetation.bounds"
   ]
  },
  {
   "cell_type": "code",
   "execution_count": 15,
   "metadata": {},
   "outputs": [],
   "source": [
    "Highway_bound = highway.bounds"
   ]
  },
  {
   "cell_type": "code",
   "execution_count": 16,
   "metadata": {},
   "outputs": [],
   "source": [
    "Sealake_bound = sealake.bounds"
   ]
  },
  {
   "cell_type": "code",
   "execution_count": 17,
   "metadata": {},
   "outputs": [],
   "source": [
    "Industrial_bound = Industrial.bounds"
   ]
  },
  {
   "cell_type": "code",
   "execution_count": 18,
   "metadata": {},
   "outputs": [],
   "source": [
    "Residental_bound = Residental.bounds"
   ]
  },
  {
   "cell_type": "code",
   "execution_count": 19,
   "metadata": {},
   "outputs": [],
   "source": [
    "PermanentCrop_bound = PermanentCrop.bounds"
   ]
  },
  {
   "cell_type": "code",
   "execution_count": 20,
   "metadata": {},
   "outputs": [],
   "source": [
    "Pasture_bound = Pasture.bounds"
   ]
  },
  {
   "cell_type": "code",
   "execution_count": 21,
   "metadata": {},
   "outputs": [],
   "source": [
    "River_bound = River.bounds"
   ]
  },
  {
   "cell_type": "code",
   "execution_count": 22,
   "metadata": {},
   "outputs": [],
   "source": [
    "bound_list = [annual_bound, Forest_bound, Herbaceous_bound, Highway_bound, Sealake_bound, Industrial_bound, Residental_bound, PermanentCrop_bound, Pasture_bound,River_bound]"
   ]
  },
  {
   "cell_type": "code",
   "execution_count": 23,
   "metadata": {},
   "outputs": [],
   "source": [
    "Tuple = [\n",
    "{\n",
    "    \"name\" : files,\n",
    "    \"label\" : list[0],\n",
    "    \"date\" : date_year,\n",
    "    \"bound\" : bound_list[0]\n",
    "},\n",
    "{\n",
    "    \"name\" : files,\n",
    "    \"label\" : list[1],\n",
    "    \"date\" : date_year,\n",
    "    \"bound\" : bound_list[1]\n",
    "}\n",
    ",\n",
    "{\n",
    "    \"name\" : files,\n",
    "    \"label\" : list[2],\n",
    "    \"date\" : date_year,\n",
    "    \"bound\" : bound_list[2]\n",
    "},\n",
    "{\n",
    "    \"name\": files,\n",
    "    \"label\" : list[3],\n",
    "    \"date\": date_year,\n",
    "    \"bound\": bound_list[3]\n",
    "},\n",
    "{\n",
    "    \"name\": files,\n",
    "    \"label\" : list[4],\n",
    "    \"date\": date_year,\n",
    "    \"bound\": bound_list[4]\n",
    "},\n",
    "{\n",
    "    \"name\": files,\n",
    "    \"label\" : list[5],\n",
    "    \"date\": date_year,\n",
    "    \"bound\": bound_list[5]\n",
    "},\n",
    "{\n",
    "    \"name\": files,\n",
    "    \"label\" : list[6],\n",
    "    \"date\": date_year,\n",
    "    \"bound\": bound_list[6]\n",
    "},\n",
    "{\n",
    "    \"name\": files,\n",
    "    \"label\" : list[7],\n",
    "    \"date\": date_year,\n",
    "    \"bound\": bound_list[7]\n",
    "},\n",
    "{\n",
    "    \"name\": files,\n",
    "    \"label\" : list[8],\n",
    "    \"date\": date_year,\n",
    "    \"bound\": bound_list[8]\n",
    "},\n",
    "{\n",
    "    \"name\": files,\n",
    "    \"label\" : list[9],\n",
    "    \"date\": date_year,\n",
    "    \"bound\": bound_list[9]\n",
    "}\n",
    "]"
   ]
  },
  {
   "cell_type": "code",
   "execution_count": 24,
   "metadata": {},
   "outputs": [],
   "source": [
    "x = json.dumps(Tuple,indent=4)"
   ]
  },
  {
   "cell_type": "code",
   "execution_count": 25,
   "metadata": {},
   "outputs": [],
   "source": [
    "with open(\"./dataset\", \"w\") as f:\n",
    "    f.write(x)"
   ]
  }
 ],
 "metadata": {
  "kernelspec": {
   "display_name": "Python 3",
   "language": "python",
   "name": "python3"
  },
  "language_info": {
   "codemirror_mode": {
    "name": "ipython",
    "version": 3
   },
   "file_extension": ".py",
   "mimetype": "text/x-python",
   "name": "python",
   "nbconvert_exporter": "python",
   "pygments_lexer": "ipython3",
   "version": "3.7.4"
  }
 },
 "nbformat": 4,
 "nbformat_minor": 2
}
